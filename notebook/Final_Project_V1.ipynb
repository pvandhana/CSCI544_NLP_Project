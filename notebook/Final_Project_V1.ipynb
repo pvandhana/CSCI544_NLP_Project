{
 "cells": [
  {
   "cell_type": "code",
   "execution_count": 18,
   "id": "5d7bdbd5",
   "metadata": {},
   "outputs": [
    {
     "name": "stderr",
     "output_type": "stream",
     "text": [
      "[nltk_data] Downloading package words to\n",
      "[nltk_data]     /Users/devanshugupta/nltk_data...\n",
      "[nltk_data]   Unzipping corpora/words.zip.\n"
     ]
    }
   ],
   "source": [
    "import pandas as pd\n",
    "import numpy as np\n",
    "import nltk\n",
    "nltk.download('words')\n",
    "import re\n",
    "from bs4 import BeautifulSoup\n",
    "import re"
   ]
  },
  {
   "cell_type": "code",
   "execution_count": 22,
   "id": "99c1e771",
   "metadata": {},
   "outputs": [],
   "source": [
    "# Accessing data file: ./data/fileName\n",
    "\n",
    "youtube_dataset = pd.read_csv('./data/youtube_dislike_dataset.csv', index_col = False, usecols = ['dislikes','comments'])"
   ]
  },
  {
   "cell_type": "code",
   "execution_count": 24,
   "id": "1fa99bca",
   "metadata": {},
   "outputs": [
    {
     "data": {
      "text/plain": [
       "37422"
      ]
     },
     "execution_count": 24,
     "metadata": {},
     "output_type": "execute_result"
    }
   ],
   "source": [
    "len(youtube_dataset)"
   ]
  },
  {
   "cell_type": "code",
   "execution_count": 25,
   "id": "398ed113",
   "metadata": {},
   "outputs": [
    {
     "data": {
      "text/plain": [
       "numpy.int64"
      ]
     },
     "execution_count": 25,
     "metadata": {},
     "output_type": "execute_result"
    }
   ],
   "source": [
    "#predicted value column - dislikes\n",
    "\n",
    "type(youtube_dataset.loc[0,'dislikes'])"
   ]
  },
  {
   "cell_type": "code",
   "execution_count": 20,
   "id": "4fc9d371",
   "metadata": {},
   "outputs": [
    {
     "data": {
      "text/plain": [
       "235892"
      ]
     },
     "execution_count": 20,
     "metadata": {},
     "output_type": "execute_result"
    }
   ],
   "source": [
    "words = set(nltk.corpus.words.words())\n",
    "\n",
    "len(words)"
   ]
  },
  {
   "cell_type": "markdown",
   "id": "d150578b",
   "metadata": {},
   "source": [
    "# Data Cleaning\n"
   ]
  },
  {
   "cell_type": "markdown",
   "id": "11077b8d",
   "metadata": {},
   "source": [
    "## Pre-processing"
   ]
  },
  {
   "cell_type": "markdown",
   "id": "df4d7a7b",
   "metadata": {},
   "source": [
    "### Converting review text to lowercase\n"
   ]
  },
  {
   "cell_type": "code",
   "execution_count": 27,
   "id": "6d2200ee",
   "metadata": {},
   "outputs": [],
   "source": [
    "youtube_dataset['comments'] = youtube_dataset['comments'].str.lower()"
   ]
  },
  {
   "cell_type": "markdown",
   "id": "28c23efb",
   "metadata": {},
   "source": [
    "### Removing links"
   ]
  },
  {
   "cell_type": "code",
   "execution_count": 28,
   "id": "83d717b2",
   "metadata": {},
   "outputs": [],
   "source": [
    "#removing all the URL links from the comment text. \n",
    "#For this purpose, we are removing all the words in the comment text which begin with http\n",
    "\n",
    "youtube_dataset['comments'] = youtube_dataset['comments'].apply(lambda comment: re.sub(r\"http\\S+\", \"\", str(comment)))\n"
   ]
  },
  {
   "cell_type": "markdown",
   "id": "a394ac05",
   "metadata": {},
   "source": [
    "### Removing spaces"
   ]
  },
  {
   "cell_type": "code",
   "execution_count": 29,
   "id": "b504b5ba",
   "metadata": {},
   "outputs": [],
   "source": [
    "#removing all the spaces from the comment body using the strip method.\n",
    "\n",
    "youtube_dataset['comments'] = youtube_dataset['comments'].str.strip()"
   ]
  },
  {
   "cell_type": "markdown",
   "id": "8354d5b7",
   "metadata": {},
   "source": [
    "### Removing non alphabetical chars"
   ]
  },
  {
   "cell_type": "code",
   "execution_count": 30,
   "id": "27b39691",
   "metadata": {},
   "outputs": [],
   "source": [
    "#removing all the nonalphabetical chars\n",
    "\n",
    "youtube_dataset['comments'] = youtube_dataset['comments'].apply(lambda comment: re.sub(r'[^a-z0-9 ]','', str(comment)))"
   ]
  },
  {
   "cell_type": "markdown",
   "id": "202d2e8c",
   "metadata": {},
   "source": [
    "### remove the stop words "
   ]
  },
  {
   "cell_type": "code",
   "execution_count": 31,
   "id": "f04c2f5a",
   "metadata": {},
   "outputs": [
    {
     "name": "stderr",
     "output_type": "stream",
     "text": [
      "[nltk_data] Downloading package stopwords to\n",
      "[nltk_data]     /Users/devanshugupta/nltk_data...\n",
      "[nltk_data]   Package stopwords is already up-to-date!\n"
     ]
    },
    {
     "data": {
      "text/plain": [
       "True"
      ]
     },
     "execution_count": 31,
     "metadata": {},
     "output_type": "execute_result"
    }
   ],
   "source": [
    "nltk.download('stopwords')\n"
   ]
  },
  {
   "cell_type": "code",
   "execution_count": 32,
   "id": "932d21bc",
   "metadata": {},
   "outputs": [],
   "source": [
    "#In the stopwords removal step, we are splitting the comment into words. Then, we are filtering out stopwords and \n",
    "# then we are joining the rest of the words\n",
    "\n",
    "from nltk.corpus import stopwords\n",
    " \n",
    "youtube_dataset['comments'] = youtube_dataset['comments'].apply(lambda x : \" \".join([word for word in x.split() if word not in stopwords.words('english')]))"
   ]
  },
  {
   "cell_type": "code",
   "execution_count": 34,
   "id": "51167dfe",
   "metadata": {},
   "outputs": [],
   "source": [
    "#Creating the vectorizers for training set using TFIDF\n",
    "#For training data, we are performing the transform step and the fit step in 1 go\n",
    "\n",
    "\n",
    "from sklearn.feature_extraction.text import TfidfVectorizer\n",
    "\n",
    "vectorizer = TfidfVectorizer()\n",
    "comments_transformed = vectorizer.fit_transform(youtube_dataset['comments'])"
   ]
  },
  {
   "cell_type": "code",
   "execution_count": 35,
   "id": "2bd9d640",
   "metadata": {},
   "outputs": [],
   "source": [
    "#Splitting the train and test data in 80-20 ratio\n",
    "\n",
    "from sklearn.model_selection import train_test_split\n",
    "\n",
    "x_train, x_test, y_train, y_test = train_test_split(comments_transformed, youtube_dataset['dislikes'], test_size = 0.2, train_size = 0.8)\n",
    "\n"
   ]
  },
  {
   "cell_type": "markdown",
   "id": "38d59268",
   "metadata": {},
   "source": [
    "# ML "
   ]
  },
  {
   "cell_type": "code",
   "execution_count": 37,
   "id": "69d4574d",
   "metadata": {},
   "outputs": [],
   "source": [
    "from sklearn.linear_model import LinearRegression\n",
    "\n",
    "reg = LinearRegression().fit(x_train, y_train)\n",
    "\n",
    "\n",
    "y_pred = reg.predict(x_test)"
   ]
  },
  {
   "cell_type": "code",
   "execution_count": 62,
   "id": "a3471a6f",
   "metadata": {},
   "outputs": [],
   "source": [
    "from sklearn.tree import DecisionTreeRegressor\n",
    "\n",
    "rng = np.random.RandomState(1)\n",
    "\n",
    "# Fit regression model\n",
    "regr = DecisionTreeRegressor(max_depth=2)\n",
    "regr.fit(x_train, y_train)\n",
    "# Predict\n",
    "\n",
    "\n",
    "y_pred_DT = regr.predict(x_test)\n",
    "\n"
   ]
  },
  {
   "cell_type": "code",
   "execution_count": 79,
   "id": "93c23e2e",
   "metadata": {},
   "outputs": [],
   "source": [
    "from sklearn.svm import SVR\n",
    "\n",
    "rng = np.random.RandomState(1)\n",
    "\n",
    "svr = SVR().fit(x_train, y_train)"
   ]
  },
  {
   "cell_type": "code",
   "execution_count": 80,
   "id": "9bfd0fba",
   "metadata": {},
   "outputs": [],
   "source": [
    "# Predict\n",
    "y_pred_SVR = svr.predict(x_test)"
   ]
  },
  {
   "cell_type": "code",
   "execution_count": 75,
   "id": "6a5a687a",
   "metadata": {},
   "outputs": [],
   "source": [
    "from sklearn.ensemble import RandomForestRegressor\n",
    "\n",
    "rfr = RandomForestRegressor(max_depth=3)\n",
    "rfr.fit(x_train, y_train)\n",
    "y_pred_RFR = rfr.predict(x_test)"
   ]
  },
  {
   "cell_type": "markdown",
   "id": "84b79f36",
   "metadata": {},
   "source": [
    "## Mean Squared Error"
   ]
  },
  {
   "cell_type": "code",
   "execution_count": 44,
   "id": "e432a447",
   "metadata": {},
   "outputs": [
    {
     "name": "stdout",
     "output_type": "stream",
     "text": [
      "35005.821222426566\n"
     ]
    }
   ],
   "source": [
    "import math\n",
    "\n",
    "from sklearn.metrics import mean_squared_error\n",
    "\n",
    "rmse = math.sqrt(mean_squared_error(y_test, y_pred))\n",
    "\n",
    "print(rmse)"
   ]
  },
  {
   "cell_type": "code",
   "execution_count": 68,
   "id": "ce40e7a0",
   "metadata": {},
   "outputs": [
    {
     "name": "stdout",
     "output_type": "stream",
     "text": [
      "32192.011223785503\n"
     ]
    }
   ],
   "source": [
    "rmse = math.sqrt(mean_squared_error(y_test, y_pred_DT))\n",
    "\n",
    "print(rmse)"
   ]
  },
  {
   "cell_type": "code",
   "execution_count": 81,
   "id": "2cf3bf93",
   "metadata": {},
   "outputs": [
    {
     "name": "stdout",
     "output_type": "stream",
     "text": [
      "32479.964962909296\n"
     ]
    }
   ],
   "source": [
    "rmse = math.sqrt(mean_squared_error(y_test, y_pred_SVR))\n",
    "\n",
    "print(rmse)"
   ]
  },
  {
   "cell_type": "code",
   "execution_count": 77,
   "id": "95857541",
   "metadata": {},
   "outputs": [
    {
     "name": "stdout",
     "output_type": "stream",
     "text": [
      "32192.5402829946\n"
     ]
    }
   ],
   "source": [
    "rmse = math.sqrt(mean_squared_error(y_test, y_pred_RFR))\n",
    "\n",
    "print(rmse)"
   ]
  },
  {
   "cell_type": "markdown",
   "id": "dc41402f",
   "metadata": {},
   "source": [
    "## Mean Absolute Error"
   ]
  },
  {
   "cell_type": "code",
   "execution_count": 73,
   "id": "afdbfe88",
   "metadata": {},
   "outputs": [
    {
     "name": "stdout",
     "output_type": "stream",
     "text": [
      "16922.51632971837\n"
     ]
    }
   ],
   "source": [
    "from sklearn.metrics import mean_absolute_error\n",
    "\n",
    "print(mean_absolute_error(y_test, y_pred))\n"
   ]
  },
  {
   "cell_type": "code",
   "execution_count": 71,
   "id": "544953f8",
   "metadata": {},
   "outputs": [
    {
     "name": "stdout",
     "output_type": "stream",
     "text": [
      "6784.545852932969\n"
     ]
    }
   ],
   "source": [
    "print(mean_absolute_error(y_test, y_pred_DT))"
   ]
  },
  {
   "cell_type": "code",
   "execution_count": 82,
   "id": "139f8cbd",
   "metadata": {},
   "outputs": [
    {
     "name": "stdout",
     "output_type": "stream",
     "text": [
      "4807.660173329713\n"
     ]
    }
   ],
   "source": [
    "print(mean_absolute_error(y_test, y_pred_SVR))"
   ]
  },
  {
   "cell_type": "code",
   "execution_count": 78,
   "id": "bac680ff",
   "metadata": {},
   "outputs": [
    {
     "name": "stdout",
     "output_type": "stream",
     "text": [
      "6751.571641941469\n"
     ]
    }
   ],
   "source": [
    "print(mean_absolute_error(y_test, y_pred_RFR))"
   ]
  }
 ],
 "metadata": {
  "kernelspec": {
   "display_name": "Python 3.9.7 ('base')",
   "language": "python",
   "name": "python397jvsc74a57bd01df3498722dced393c4c96d1e3bc569bc1ee35f13abab3137d5139cf2259856a"
  },
  "language_info": {
   "codemirror_mode": {
    "name": "ipython",
    "version": 3
   },
   "file_extension": ".py",
   "mimetype": "text/x-python",
   "name": "python",
   "nbconvert_exporter": "python",
   "pygments_lexer": "ipython3",
   "version": "3.9.7"
  }
 },
 "nbformat": 4,
 "nbformat_minor": 5
}
